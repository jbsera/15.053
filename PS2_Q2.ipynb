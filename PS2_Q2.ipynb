{
 "cells": [
  {
   "cell_type": "markdown",
   "metadata": {},
   "source": [
    "# Problem 2"
   ]
  },
  {
   "cell_type": "markdown",
   "metadata": {},
   "source": [
    "Please install Julia, JuMP and Gurobi on your computer as instructed by the tutorial on Canvas. You can contact TAs for help regarding installing these packages. You should use Gurobi as the solver for all JuMP related problems, and use the Plots or StatsPlots packages for graphing.\n",
    "\n",
    "Before you submit this Jupyter notebook, please use `Kernel` $\\rightarrow$ `Restart & Run All` to make the output of your codes available to the TAs."
   ]
  },
  {
   "cell_type": "markdown",
   "metadata": {},
   "source": [
    "## Part (a)"
   ]
  },
  {
   "cell_type": "code",
   "execution_count": 5,
   "metadata": {},
   "outputs": [
    {
     "name": "stdout",
     "output_type": "stream",
     "text": [
      "Set parameter Username\r\n",
      "Academic license - for non-commercial use only - expires 2025-02-06\r\n"
     ]
    },
    {
     "data": {
      "text/latex": [
       "$$ \\begin{aligned}\n",
       "\\max\\quad & 1200 x_{1} + 800 x_{2} + 500 x_{3} + 500 x_{4} + 300 x_{5}\\\\\n",
       "\\text{Subject to} \\quad & 2 x_{1} + x_{2} \\leq 40000\\\\\n",
       " & x_{2} + 2 x_{3} + 2 x_{4} + x_{5} \\leq 240000\\\\\n",
       " & 0.2 x_{1} + x_{2} + 0.5 x_{4} \\leq 20000\\\\\n",
       " & x_{1} \\leq 50000\\\\\n",
       " & x_{3} \\leq 50000\\\\\n",
       " & x_{4} + x_{5} \\leq 150000\\\\\n",
       " & x_{1} \\geq 0\\\\\n",
       " & x_{2} \\geq 0\\\\\n",
       " & x_{3} \\geq 0\\\\\n",
       " & x_{4} \\geq 0\\\\\n",
       " & x_{5} \\geq 0\\\\\n",
       "\\end{aligned} $$"
      ]
     },
     "metadata": {},
     "output_type": "display_data"
    }
   ],
   "source": [
    "using JuMP, Gurobi\n",
    "\n",
    "m = Model(Gurobi.Optimizer)\n",
    "\n",
    "@variables m begin\n",
    "    x[1:5] >= 0 # bond to be invested\n",
    "end\n",
    "\n",
    "@constraints m begin \n",
    "    2*x[1]+1*x[2]<=40000\n",
    "    1*x[2]+2*x[3]+2*x[4]+1*x[5]<=240000\n",
    "    0.2*x[1]+1*x[2]+0.5*x[4]<=20000\n",
    "    x[1]<=50000\n",
    "    x[3]<=50000\n",
    "    x[4]+x[5]<=150000\n",
    "end\n",
    "\n",
    "## INSERT OBJECTIVE BELOW\n",
    "@objective(m, Max, 1200*x[1]+ 800*x[2]+500*x[3]+500*x[4]+300*x[5])\n",
    "\n",
    "print(m)"
   ]
  },
  {
   "cell_type": "code",
   "execution_count": 6,
   "metadata": {},
   "outputs": [
    {
     "name": "stdout",
     "output_type": "stream",
     "text": [
      "Gurobi Optimizer version 11.0.0 build v11.0.0rc2 (win64 - Windows 11.0 (22000.2))\r\n",
      "\r\n",
      "CPU model: Intel(R) Core(TM) i5-10210U CPU @ 1.60GHz, instruction set [SSE2|AVX|AVX2]\r\n",
      "Thread count: 4 physical cores, 8 logical processors, using up to 8 threads\r\n",
      "\r\n",
      "Optimize a model with 6 rows, 5 columns and 13 nonzeros\r\n",
      "Model fingerprint: 0x6105f9bf\r\n",
      "Coefficient statistics:\r\n",
      "  Matrix range     [2e-01, 2e+00]\r\n",
      "  Objective range  [3e+02, 1e+03]\r\n",
      "  Bounds range     [0e+00, 0e+00]\r\n",
      "  RHS range        [2e+04, 2e+05]\r\n",
      "Presolve removed 2 rows and 0 columns\r\n",
      "Presolve time: 0.00s\r\n",
      "Presolved: 4 rows, 5 columns, 11 nonzeros\r\n",
      "\r\n",
      "Iteration    Objective       Primal Inf.    Dual Inf.      Time\r\n",
      "       0    1.3200000e+08   6.686250e+04   0.000000e+00      0s\r\n",
      "       3    9.1500000e+07   0.000000e+00   0.000000e+00      0s\r\n",
      "\r\n",
      "Solved in 3 iterations and 0.00 seconds (0.00 work units)\r\n",
      "Optimal objective  9.150000000e+07\r\n",
      "\r\n",
      "User-callback calls 46, time in user-callback 0.00 sec\r\n"
     ]
    },
    {
     "data": {
      "text/plain": [
       "9.15e7"
      ]
     },
     "execution_count": 6,
     "metadata": {},
     "output_type": "execute_result"
    }
   ],
   "source": [
    "optimize!(m)\n",
    "## INSERT CODE BELOW TO QUERY SOLUTIONS\n",
    "## Hint: It may be helpful to use the value.() and objective_value() functions\n",
    "\n",
    "opt_x = value.(x) # Optimal x values\n",
    "optimal_objective = objective_value(m) # Optimal objective value\n",
    "\n"
   ]
  },
  {
   "cell_type": "code",
   "execution_count": 7,
   "metadata": {},
   "outputs": [
    {
     "name": "stdout",
     "output_type": "stream",
     "text": [
      "The objective function value is 9.15e7\n",
      "The optimal decision variable values are [20000.0, 0.0, 45000.0, 0.0, 150000.0]\n"
     ]
    }
   ],
   "source": [
    "println(\"The objective function value is \", optimal_objective)\n",
    "println(\"The optimal decision variable values are \", opt_x)"
   ]
  },
  {
   "cell_type": "markdown",
   "metadata": {},
   "source": [
    "## Part (b)"
   ]
  },
  {
   "cell_type": "code",
   "execution_count": 8,
   "metadata": {},
   "outputs": [
    {
     "name": "stdout",
     "output_type": "stream",
     "text": [
      "Set parameter Username\r\n",
      "Academic license - for non-commercial use only - expires 2025-02-06\r\n"
     ]
    },
    {
     "data": {
      "text/latex": [
       "$$ \\begin{aligned}\n",
       "\\max\\quad & 1200 x_{1} + 800 x_{2} + 500 x_{3} + 500 x_{4} + 300 x_{5}\\\\\n",
       "\\text{Subject to} \\quad & 2 x_{1} + x_{2} \\leq 40000\\\\\n",
       " & x_{2} + 2 x_{3} + 2 x_{4} + x_{5} \\leq 240000\\\\\n",
       " & 0.2 x_{1} + x_{2} + 0.5 x_{4} \\leq 20000\\\\\n",
       " & x_{1} \\leq 50000\\\\\n",
       " & x_{3} \\leq 50000\\\\\n",
       " & x_{4} + x_{5} \\leq 100000\\\\\n",
       " & x_{1} \\geq 0\\\\\n",
       " & x_{2} \\geq 0\\\\\n",
       " & x_{3} \\geq 0\\\\\n",
       " & x_{4} \\geq 0\\\\\n",
       " & x_{5} \\geq 0\\\\\n",
       "\\end{aligned} $$"
      ]
     },
     "metadata": {},
     "output_type": "display_data"
    }
   ],
   "source": [
    "using JuMP, Gurobi\n",
    "\n",
    "m = Model(Gurobi.Optimizer)\n",
    "\n",
    "@variables m begin\n",
    "    x[1:5] >= 0 # bond to be invested\n",
    "end\n",
    "\n",
    "@constraints m begin \n",
    "    2*x[1]+1*x[2]<=40000\n",
    "    1*x[2]+2*x[3]+2*x[4]+1*x[5]<=240000\n",
    "    0.2*x[1]+1*x[2]+0.5*x[4]<=20000\n",
    "    x[1]<=50000\n",
    "    x[3]<=50000\n",
    "    x[4]+x[5]<=100000\n",
    "end\n",
    "\n",
    "## INSERT OBJECTIVE BELOW\n",
    "@objective(m, Max, 1200*x[1]+ 800*x[2]+500*x[3]+500*x[4]+300*x[5])\n",
    "\n",
    "print(m)"
   ]
  },
  {
   "cell_type": "code",
   "execution_count": 9,
   "metadata": {},
   "outputs": [
    {
     "name": "stdout",
     "output_type": "stream",
     "text": [
      "Gurobi Optimizer version 11.0.0 build v11.0.0rc2 (win64 - Windows 11.0 (22000.2))\r\n",
      "\r\n",
      "CPU model: Intel(R) Core(TM) i5-10210U CPU @ 1.60GHz, instruction set [SSE2|AVX|AVX2]\r\n",
      "Thread count: 4 physical cores, 8 logical processors, using up to 8 threads\r\n",
      "\r\n",
      "Optimize a model with 6 rows, 5 columns and 13 nonzeros\r\n",
      "Model fingerprint: 0x606a3544\r\n",
      "Coefficient statistics:\r\n",
      "  Matrix range     [2e-01, 2e+00]\r\n",
      "  Objective range  [3e+02, 1e+03]\r\n",
      "  Bounds range     [0e+00, 0e+00]\r\n",
      "  RHS range        [2e+04, 2e+05]\r\n",
      "Presolve removed 2 rows and 0 columns\r\n",
      "Presolve time: 0.00s\r\n",
      "Presolved: 4 rows, 5 columns, 11 nonzeros\r\n",
      "\r\n",
      "Iteration    Objective       Primal Inf.    Dual Inf.      Time\r\n",
      "       0    1.0700000e+08   3.873750e+04   0.000000e+00      0s\r\n",
      "       3    8.5400000e+07   0.000000e+00   0.000000e+00      0s\r\n",
      "\r\n",
      "Solved in 3 iterations and 0.00 seconds (0.00 work units)\r\n",
      "Optimal objective  8.540000000e+07\r\n",
      "\r\n",
      "User-callback calls 46, time in user-callback 0.00 sec\r\n"
     ]
    },
    {
     "data": {
      "text/plain": [
       "8.54e7"
      ]
     },
     "execution_count": 9,
     "metadata": {},
     "output_type": "execute_result"
    }
   ],
   "source": [
    "optimize!(m)\n",
    "## INSERT CODE BELOW TO QUERY SOLUTIONS\n",
    "## Hint: It may be helpful to use the value.() and objective_value() functions\n",
    "\n",
    "opt_x = value.(x) # Optimal x values\n",
    "optimal_objective = objective_value(m) # Optimal objective value"
   ]
  },
  {
   "cell_type": "code",
   "execution_count": 10,
   "metadata": {},
   "outputs": [
    {
     "name": "stdout",
     "output_type": "stream",
     "text": [
      "The objective function value is 8.54e7\n",
      "The optimal decision variable values are [20000.0, 0.0, 50000.0, 32000.0, 68000.0]\n"
     ]
    }
   ],
   "source": [
    "println(\"The objective function value is \", optimal_objective)\n",
    "println(\"The optimal decision variable values are \", opt_x)"
   ]
  },
  {
   "cell_type": "code",
   "execution_count": null,
   "metadata": {},
   "outputs": [],
   "source": []
  }
 ],
 "metadata": {
  "kernelspec": {
   "display_name": "Julia 1.10.0",
   "language": "julia",
   "name": "julia-1.10"
  },
  "language_info": {
   "file_extension": ".jl",
   "mimetype": "application/julia",
   "name": "julia",
   "version": "1.10.0"
  }
 },
 "nbformat": 4,
 "nbformat_minor": 5
}
