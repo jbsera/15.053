{
 "cells": [
  {
   "cell_type": "markdown",
   "metadata": {},
   "source": [
    "# Problem 1"
   ]
  },
  {
   "cell_type": "markdown",
   "metadata": {},
   "source": [
    "## Method 1"
   ]
  },
  {
   "cell_type": "markdown",
   "metadata": {},
   "source": [
    "Now, please write Julia/JuMP codes in the cell below to describe this problem."
   ]
  },
  {
   "cell_type": "code",
   "execution_count": 10,
   "metadata": {},
   "outputs": [
    {
     "name": "stdout",
     "output_type": "stream",
     "text": [
      "Set parameter Username\r\n",
      "Academic license - for non-commercial use only - expires 2025-02-06\r\n"
     ]
    },
    {
     "data": {
      "text/latex": [
       "$$ \\begin{aligned}\n",
       "\\min\\quad & z + 3 y\\\\\n",
       "\\text{Subject to} \\quad & 2 x + z \\geq 8\\\\\n",
       " & x + z \\geq 6\\\\\n",
       " & -x + z \\geq -2\\\\\n",
       " & x \\geq 0\\\\\n",
       " & y \\geq 0\\\\\n",
       " & x \\leq 6\\\\\n",
       " & y \\leq 5\\\\\n",
       " & x + 2 y \\leq 11\\\\\n",
       " & 2 x + y \\leq 8\\\\\n",
       " & x \\geq 0\\\\\n",
       " & y \\geq 0\\\\\n",
       " & z \\geq 0\\\\\n",
       "\\end{aligned} $$"
      ]
     },
     "metadata": {},
     "output_type": "display_data"
    }
   ],
   "source": [
    "# write Julia/JuMP codes to describe the linear program\n",
    "using JuMP, Gurobi\n",
    "\n",
    "m_1 = Model(Gurobi.Optimizer)\n",
    "\n",
    "@variables m_1 begin\n",
    "    x >= 0\n",
    "    y >= 0\n",
    "    z >= 0\n",
    "end\n",
    "\n",
    "@constraints m_1 begin  \n",
    "    z >= 8-2*x\n",
    "    z >= 6-x\n",
    "    z >= x-2\n",
    "    x >= 0\n",
    "    x <= 6\n",
    "    y <= 5\n",
    "    x + 2*y <= 11\n",
    "    2*x + y <= 8\n",
    "    y >= 0\n",
    "    \n",
    "    \n",
    "    \n",
    "end\n",
    "\n",
    "# Write the objective below.\n",
    "\n",
    "@objective(m_1, Min, z+3*y)\n",
    "print(m_1)\n",
    "    \n",
    "    \n"
   ]
  },
  {
   "cell_type": "markdown",
   "metadata": {},
   "source": [
    "Next, you should solve the problem using Gurobi as the solver and print the answer."
   ]
  },
  {
   "cell_type": "code",
   "execution_count": 11,
   "metadata": {},
   "outputs": [
    {
     "name": "stdout",
     "output_type": "stream",
     "text": [
      "Gurobi Optimizer version 11.0.0 build v11.0.0rc2 (win64 - Windows 11+.0 (22631.2))\r\n",
      "\r\n",
      "CPU model: Intel(R) Core(TM) i5-10210U CPU @ 1.60GHz, instruction set [SSE2|AVX|AVX2]\r\n",
      "Thread count: 4 physical cores, 8 logical processors, using up to 8 threads\r\n",
      "\r\n",
      "Optimize a model with 9 rows, 3 columns and 14 nonzeros\r\n",
      "Model fingerprint: 0xc60e392a\r\n",
      "Coefficient statistics:\r\n",
      "  Matrix range     [1e+00, 2e+00]\r\n",
      "  Objective range  [1e+00, 3e+00]\r\n",
      "  Bounds range     [0e+00, 0e+00]\r\n",
      "  RHS range        [2e+00, 1e+01]\r\n",
      "Presolve removed 6 rows and 1 columns\r\n",
      "Presolve time: 0.00s\r\n",
      "Presolved: 3 rows, 2 columns, 6 nonzeros\r\n",
      "\r\n",
      "Iteration    Objective       Primal Inf.    Dual Inf.      Time\r\n",
      "       0    1.9970000e+00   7.004500e+00   0.000000e+00      0s\r\n",
      "       1    2.0000000e+00   0.000000e+00   0.000000e+00      0s\r\n",
      "\r\n",
      "Solved in 1 iterations and 0.00 seconds (0.00 work units)\r\n",
      "Optimal objective  2.000000000e+00\r\n",
      "\r\n",
      "User-callback calls 46, time in user-callback 0.00 sec\r\n"
     ]
    },
    {
     "data": {
      "text/plain": [
       "2.0"
      ]
     },
     "execution_count": 11,
     "metadata": {},
     "output_type": "execute_result"
    }
   ],
   "source": [
    "#--- Write codes here to query the optimal solutions\n",
    "\n",
    "optimize!(m_1)\n",
    "\n",
    "opt_z = value.(z) # Optimal z values\n",
    "opt_y = value.(y) # Optimal y\n",
    "opt_x = value.(x) # Optimal y\n",
    "optimal_objective = objective_value(m_1) # Optimal objective value"
   ]
  },
  {
   "cell_type": "code",
   "execution_count": 20,
   "metadata": {},
   "outputs": [
    {
     "name": "stdout",
     "output_type": "stream",
     "text": [
      "METHOD 1\n",
      "The objective function value is 2.0\n",
      "The optimal decision variable values are z: 2.0, y: 0.0, x: 4.0\n"
     ]
    }
   ],
   "source": [
    "println(\"METHOD 1\")\n",
    "println(\"The objective function value is \", optimal_objective)\n",
    "println(\"The optimal decision variable values are \", \"z: \", opt_z, \", y: \", opt_y, \", x: \", opt_x)"
   ]
  },
  {
   "cell_type": "markdown",
   "metadata": {},
   "source": [
    "## Method 2"
   ]
  },
  {
   "cell_type": "code",
   "execution_count": 13,
   "metadata": {},
   "outputs": [
    {
     "name": "stdout",
     "output_type": "stream",
     "text": [
      "Set parameter Username\r\n",
      "Academic license - for non-commercial use only - expires 2025-02-06\r\n"
     ]
    },
    {
     "data": {
      "text/latex": [
       "$$ \\begin{aligned}\n",
       "\\min\\quad & z + 3 y\\\\\n",
       "\\text{Subject to} \\quad & z + 2 a + b - c = 8\\\\\n",
       " & x - a - b - c = 0\\\\\n",
       " & a \\geq 0\\\\\n",
       " & b \\geq 0\\\\\n",
       " & c \\geq 0\\\\\n",
       " & x \\geq 0\\\\\n",
       " & y \\geq 0\\\\\n",
       " & a \\leq 2\\\\\n",
       " & b \\leq 2\\\\\n",
       " & c \\leq 2\\\\\n",
       " & x \\leq 6\\\\\n",
       " & y \\leq 5\\\\\n",
       " & x + 2 y \\leq 11\\\\\n",
       " & 2 x + y \\leq 8\\\\\n",
       " & x \\geq 0\\\\\n",
       " & y \\geq 0\\\\\n",
       " & z \\geq 0\\\\\n",
       " & a \\geq 0\\\\\n",
       " & b \\geq 0\\\\\n",
       " & c \\geq 0\\\\\n",
       "\\end{aligned} $$"
      ]
     },
     "metadata": {},
     "output_type": "display_data"
    }
   ],
   "source": [
    "# write Julia/JuMP codes to describe the linear program\n",
    "using JuMP, Gurobi\n",
    "\n",
    "m_2 = Model(Gurobi.Optimizer)\n",
    "\n",
    "@variables m_2 begin\n",
    "    x >= 0\n",
    "    y >= 0\n",
    "    z >= 0\n",
    "    a >= 0\n",
    "    b >= 0\n",
    "    c >= 0\n",
    "end\n",
    "\n",
    "@constraints m_2 begin  \n",
    "    z == -2*a-b+c+8\n",
    "    x == a+c+b\n",
    "    a >= 0\n",
    "    a <= 2\n",
    "    b >= 0\n",
    "    b <= 2\n",
    "    c >= 0\n",
    "    c <= 2\n",
    "    x >= 0\n",
    "    x <= 6\n",
    "    y <= 5\n",
    "    x + 2*y <= 11\n",
    "    2*x + y <= 8\n",
    "    y >= 0\n",
    "    \n",
    "    \n",
    "    \n",
    "end\n",
    "\n",
    "# Write the objective below.\n",
    "\n",
    "@objective(m_2, Min, z+3*y)\n",
    "print(m_2)\n",
    "    \n",
    "    "
   ]
  },
  {
   "cell_type": "code",
   "execution_count": 14,
   "metadata": {},
   "outputs": [
    {
     "name": "stdout",
     "output_type": "stream",
     "text": [
      "Gurobi Optimizer version 11.0.0 build v11.0.0rc2 (win64 - Windows 11+.0 (22631.2))\r\n",
      "\r\n",
      "CPU model: Intel(R) Core(TM) i5-10210U CPU @ 1.60GHz, instruction set [SSE2|AVX|AVX2]\r\n",
      "Thread count: 4 physical cores, 8 logical processors, using up to 8 threads\r\n",
      "\r\n",
      "Optimize a model with 14 rows, 6 columns and 22 nonzeros\r\n",
      "Model fingerprint: 0xb4048eb1\r\n",
      "Coefficient statistics:\r\n",
      "  Matrix range     [1e+00, 2e+00]\r\n",
      "  Objective range  [1e+00, 3e+00]\r\n",
      "  Bounds range     [0e+00, 0e+00]\r\n",
      "  RHS range        [2e+00, 1e+01]\r\n",
      "Presolve removed 14 rows and 6 columns\r\n",
      "Presolve time: 0.00s\r\n",
      "Presolve: All rows and columns removed\r\n",
      "Iteration    Objective       Primal Inf.    Dual Inf.      Time\r\n",
      "       0    2.0000000e+00   0.000000e+00   0.000000e+00      0s\r\n",
      "\r\n",
      "Solved in 0 iterations and 0.00 seconds (0.00 work units)\r\n",
      "Optimal objective  2.000000000e+00\r\n",
      "\r\n",
      "User-callback calls 36, time in user-callback 0.00 sec\r\n"
     ]
    },
    {
     "data": {
      "text/plain": [
       "2.0"
      ]
     },
     "execution_count": 14,
     "metadata": {},
     "output_type": "execute_result"
    }
   ],
   "source": [
    "#--- Write codes here to query the optimal solutions\n",
    "\n",
    "optimize!(m_2)\n",
    "\n",
    "opt_z_2 = value.(z) # Optimal z values\n",
    "opt_y_2 = value.(y) # Optimal y\n",
    "opt_x_2 = value.(x) # Optimal y\n",
    "optimal_objective_2 = objective_value(m_2) # Optimal objective value"
   ]
  },
  {
   "cell_type": "code",
   "execution_count": 21,
   "metadata": {},
   "outputs": [
    {
     "name": "stdout",
     "output_type": "stream",
     "text": [
      "METHOD 2\n",
      "The objective function value is 2.0\n",
      "The optimal decision variable values are z: 2.0, y: 0.0, x: 4.0\n"
     ]
    }
   ],
   "source": [
    "println(\"METHOD 2\")\n",
    "println(\"The objective function value is \", optimal_objective_2)\n",
    "println(\"The optimal decision variable values are \", \"z: \", opt_z_2, \", y: \", opt_y_2, \", x: \", opt_x_2)"
   ]
  },
  {
   "cell_type": "markdown",
   "metadata": {},
   "source": [
    "# Method 3"
   ]
  },
  {
   "cell_type": "code",
   "execution_count": 16,
   "metadata": {},
   "outputs": [
    {
     "name": "stdout",
     "output_type": "stream",
     "text": [
      "Set parameter Username\r\n",
      "Academic license - for non-commercial use only - expires 2025-02-06\r\n"
     ]
    },
    {
     "data": {
      "text/latex": [
       "$$ \\begin{aligned}\n",
       "\\min\\quad & z + 3 y\\\\\n",
       "\\text{Subject to} \\quad & z - 8 a - 4 b - 2 c - 4 d = 0\\\\\n",
       " & x - 2 b - 4 c - 6 d = 0\\\\\n",
       " & a + b + c + d = 1\\\\\n",
       " & a \\geq 0\\\\\n",
       " & b \\geq 0\\\\\n",
       " & c \\geq 0\\\\\n",
       " & d \\geq 0\\\\\n",
       " & x \\geq 0\\\\\n",
       " & y \\geq 0\\\\\n",
       " & x \\leq 6\\\\\n",
       " & y \\leq 5\\\\\n",
       " & x + 2 y \\leq 11\\\\\n",
       " & 2 x + y \\leq 8\\\\\n",
       " & x \\geq 0\\\\\n",
       " & y \\geq 0\\\\\n",
       " & z \\geq 0\\\\\n",
       " & a \\geq 0\\\\\n",
       " & b \\geq 0\\\\\n",
       " & c \\geq 0\\\\\n",
       " & d \\geq 0\\\\\n",
       "\\end{aligned} $$"
      ]
     },
     "metadata": {},
     "output_type": "display_data"
    }
   ],
   "source": [
    "# write Julia/JuMP codes to describe the linear program\n",
    "using JuMP, Gurobi\n",
    "\n",
    "m_3 = Model(Gurobi.Optimizer)\n",
    "\n",
    "@variables m_3 begin\n",
    "    x >= 0\n",
    "    y >= 0\n",
    "    z >= 0\n",
    "    a >= 0\n",
    "    b >= 0\n",
    "    c >= 0\n",
    "    d >= 0\n",
    "end\n",
    "\n",
    "@constraints m_3 begin  \n",
    "    z == 8*a + 4*b + 2*c + 4*d\n",
    "    x == 2*b + 4*c + 6*d\n",
    "    a+b+c+d ==1\n",
    "    a >= 0\n",
    "    b>=0\n",
    "    c>=0\n",
    "    d>=0\n",
    "    x >= 0\n",
    "    x <= 6\n",
    "    y <= 5\n",
    "    x + 2*y <= 11\n",
    "    2*x + y <= 8\n",
    "    y >= 0\n",
    "    \n",
    "    \n",
    "    \n",
    "end\n",
    "\n",
    "# Write the objective below.\n",
    "\n",
    "@objective(m_3, Min, z+3*y)\n",
    "print(m_3)\n",
    "    "
   ]
  },
  {
   "cell_type": "code",
   "execution_count": 17,
   "metadata": {},
   "outputs": [
    {
     "name": "stdout",
     "output_type": "stream",
     "text": [
      "Gurobi Optimizer version 11.0.0 build v11.0.0rc2 (win64 - Windows 11+.0 (22631.2))\r\n",
      "\r\n",
      "CPU model: Intel(R) Core(TM) i5-10210U CPU @ 1.60GHz, instruction set [SSE2|AVX|AVX2]\r\n",
      "Thread count: 4 physical cores, 8 logical processors, using up to 8 threads\r\n",
      "\r\n",
      "Optimize a model with 13 rows, 7 columns and 25 nonzeros\r\n",
      "Model fingerprint: 0x2ae33e07\r\n",
      "Coefficient statistics:\r\n",
      "  Matrix range     [1e+00, 8e+00]\r\n",
      "  Objective range  [1e+00, 3e+00]\r\n",
      "  Bounds range     [0e+00, 0e+00]\r\n",
      "  RHS range        [1e+00, 1e+01]\r\n",
      "Presolve removed 11 rows and 3 columns\r\n",
      "Presolve time: 0.00s\r\n",
      "Presolved: 2 rows, 4 columns, 7 nonzeros\r\n",
      "\r\n",
      "Iteration    Objective       Primal Inf.    Dual Inf.      Time\r\n",
      "       0    2.0000000e+00   0.000000e+00   0.000000e+00      0s\r\n",
      "       0    2.0000000e+00   0.000000e+00   0.000000e+00      0s\r\n",
      "\r\n",
      "Solved in 0 iterations and 0.00 seconds (0.00 work units)\r\n",
      "Optimal objective  2.000000000e+00\r\n",
      "\r\n",
      "User-callback calls 46, time in user-callback 0.00 sec\r\n"
     ]
    },
    {
     "data": {
      "text/plain": [
       "2.0"
      ]
     },
     "execution_count": 17,
     "metadata": {},
     "output_type": "execute_result"
    }
   ],
   "source": [
    "#--- Write codes here to query the optimal solutions\n",
    "\n",
    "optimize!(m_3)\n",
    "\n",
    "opt_z_3 = value.(z) # Optimal z values\n",
    "opt_y_3 = value.(y) # Optimal y\n",
    "opt_x_3 = value.(x) # Optimal y\n",
    "optimal_objective_3 = objective_value(m_3) # Optimal objective value"
   ]
  },
  {
   "cell_type": "code",
   "execution_count": 19,
   "metadata": {},
   "outputs": [
    {
     "name": "stdout",
     "output_type": "stream",
     "text": [
      "METHOD 3\n",
      "The objective function value is 2.0\n",
      "The optimal decision variable values are z: 2.0, y: 0.0, x: 4.0\n"
     ]
    }
   ],
   "source": [
    "println(\"METHOD 3\")\n",
    "println(\"The objective function value is \", optimal_objective_3)\n",
    "println(\"The optimal decision variable values are \", \"z: \", opt_z_3, \", y: \", opt_y_3, \", x: \", opt_x_3)"
   ]
  },
  {
   "cell_type": "code",
   "execution_count": null,
   "metadata": {},
   "outputs": [],
   "source": []
  }
 ],
 "metadata": {
  "kernelspec": {
   "display_name": "Julia 1.10.0",
   "language": "julia",
   "name": "julia-1.10"
  },
  "language_info": {
   "file_extension": ".jl",
   "mimetype": "application/julia",
   "name": "julia",
   "version": "1.10.0"
  }
 },
 "nbformat": 4,
 "nbformat_minor": 5
}
