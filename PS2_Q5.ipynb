{
 "cells": [
  {
   "cell_type": "markdown",
   "metadata": {},
   "source": [
    "# Problem 1"
   ]
  },
  {
   "cell_type": "markdown",
   "metadata": {},
   "source": [
    "Please install Julia, JuMP and Gurobi on your computer as instructed by the tutorial on Canvas. You can contact TAs for help regarding installing these packages. You should use Gurobi as the solver for all JuMP related problems, and use the Plots or StatsPlots packages for graphing.\n",
    "\n",
    "Before you submit this Jupyter notebook, please use `Kernel` $\\rightarrow$ `Restart & Run All` to make the output of your codes available to the TAs."
   ]
  },
  {
   "cell_type": "markdown",
   "metadata": {},
   "source": [
    "## Part (a)"
   ]
  },
  {
   "cell_type": "markdown",
   "metadata": {},
   "source": [
    "First, on your PDF writeup, write down the formulation of this problem. Be sure to clearly indicate what your decision variables, objective, and constraints are.\n",
    "\n",
    "Then, in the cell below, complete Julia/JuMP codes to describe the linear program."
   ]
  },
  {
   "cell_type": "code",
   "execution_count": 19,
   "metadata": {},
   "outputs": [
    {
     "name": "stdout",
     "output_type": "stream",
     "text": [
      "Set parameter Username\r\n",
      "Academic license - for non-commercial use only - expires 2025-02-06\r\n"
     ]
    },
    {
     "data": {
      "text/latex": [
       "$$ \\begin{aligned}\n",
       "\\min\\quad & voxels_{1} + voxels_{3} + voxels_{4} + voxels_{5} + voxels_{9}\\\\\n",
       "\\text{Subject to} \\quad & -4 b_{1} - 2 b_{4} - 4 b_{7} - 2 b_{10} + voxels_{1} = 0\\\\\n",
       " & -3 b_{1} - 3 b_{4} - 4 b_{8} - 2 b_{11} + voxels_{2} = 0\\\\\n",
       " & -2 b_{1} - 4 b_{4} - 4 b_{9} - 2 b_{12} + voxels_{3} = 0\\\\\n",
       " & -4 b_{2} - 2 b_{5} - 3 b_{7} - 3 b_{10} + voxels_{4} = 0\\\\\n",
       " & -3 b_{2} - 3 b_{5} - 3 b_{8} - 3 b_{11} + voxels_{5} = 0\\\\\n",
       " & -2 b_{2} - 4 b_{5} - 3 b_{9} - 3 b_{12} + voxels_{6} = 0\\\\\n",
       " & -4 b_{3} - 2 b_{6} - 2 b_{7} - 4 b_{10} + voxels_{7} = 0\\\\\n",
       " & -3 b_{3} - 3 b_{6} - 2 b_{8} - 4 b_{11} + voxels_{8} = 0\\\\\n",
       " & -2 b_{3} - 4 b_{6} - 2 b_{9} - 4 b_{12} + voxels_{9} = 0\\\\\n",
       " & voxels_{2} \\geq 7\\\\\n",
       " & voxels_{6} \\geq 7\\\\\n",
       " & voxels_{7} \\geq 7\\\\\n",
       " & voxels_{8} \\geq 7\\\\\n",
       " & voxels_{5} \\leq 5\\\\\n",
       " & b_{1} \\geq 0\\\\\n",
       " & b_{2} \\geq 0\\\\\n",
       " & b_{3} \\geq 0\\\\\n",
       " & b_{4} \\geq 0\\\\\n",
       " & b_{5} \\geq 0\\\\\n",
       " & b_{6} \\geq 0\\\\\n",
       " & b_{7} \\geq 0\\\\\n",
       " & b_{8} \\geq 0\\\\\n",
       " & b_{9} \\geq 0\\\\\n",
       " & b_{10} \\geq 0\\\\\n",
       " & b_{11} \\geq 0\\\\\n",
       " & b_{12} \\geq 0\\\\\n",
       "\\end{aligned} $$"
      ]
     },
     "metadata": {},
     "output_type": "display_data"
    }
   ],
   "source": [
    "# #--- Model specification\n",
    "using JuMP, DataFrames, Gurobi\n",
    "\n",
    "m = Model(Gurobi.Optimizer)\n",
    "\n",
    "@variables m begin\n",
    "    b[1:12] >= 0 # intensities of beamlets [E1, E2,..., W1, ..., S1, ..., N1, ...]\n",
    "    voxels[1:9] # dose incurred by voxels.  note: don't need to have these \"auxiliary\" variables, but it makes formulation easier\n",
    "    # These are a suggestion and you do not have to use these decision variables.\n",
    "end\n",
    "\n",
    "@constraints m begin # Complete the constraints below.\n",
    "    voxels[1] == 4*b[1]+2*b[4]+4*b[7]+2*b[10]\n",
    "    voxels[2] == 3*b[1]+3*b[4]+4*b[8]+2*b[11]\n",
    "    voxels[3] == 2*b[1]+4*b[4]+4*b[9]+2*b[12]\n",
    "    voxels[4] == 4*b[2]+2*b[5]+3*b[7]+3*b[10]\n",
    "    voxels[5] == 3*b[2]+3*b[5]+3*b[8]+3*b[11]\n",
    "    voxels[6] == 2*b[2]+4*b[5]+3*b[9]+3*b[12]\n",
    "    voxels[7] == 4*b[3]+2*b[6]+2*b[7]+4*b[10]\n",
    "    voxels[8] == 3*b[3]+3*b[6]+2*b[8]+4*b[11]\n",
    "    voxels[9] == 2*b[3]+4*b[6]+2*b[9]+4*b[12]\n",
    "    voxels[2]>=7\n",
    "    voxels[6]>=7\n",
    "    voxels[7]>=7\n",
    "    voxels[8]>=7\n",
    "    voxels[5]<=5\n",
    "    \n",
    "    \n",
    "end\n",
    "\n",
    "@objective(m, Min, voxels[1] + voxels[3] + voxels[4] + voxels[5] + voxels[9])\n",
    "\n",
    "print(m)"
   ]
  },
  {
   "cell_type": "markdown",
   "metadata": {},
   "source": [
    "## Part (c)"
   ]
  },
  {
   "cell_type": "markdown",
   "metadata": {},
   "source": [
    "In the cell below, complete Julia/JuMP codes to solve this problem with Gurobi."
   ]
  },
  {
   "cell_type": "code",
   "execution_count": 18,
   "metadata": {},
   "outputs": [
    {
     "name": "stdout",
     "output_type": "stream",
     "text": [
      "Gurobi Optimizer version 11.0.0 build v11.0.0rc2 (win64 - Windows 11.0 (22000.2))\r\n",
      "\r\n",
      "CPU model: Intel(R) Core(TM) i5-10210U CPU @ 1.60GHz, instruction set [SSE2|AVX|AVX2]\r\n",
      "Thread count: 4 physical cores, 8 logical processors, using up to 8 threads\r\n",
      "\r\n",
      "Optimize a model with 14 rows, 21 columns and 50 nonzeros\r\n",
      "Model fingerprint: 0xe9518238\r\n",
      "Coefficient statistics:\r\n",
      "  Matrix range     [1e+00, 4e+00]\r\n",
      "  Objective range  [1e+00, 1e+00]\r\n",
      "  Bounds range     [0e+00, 0e+00]\r\n",
      "  RHS range        [5e+00, 7e+00]\r\n",
      "Presolve removed 10 rows and 14 columns\r\n",
      "Presolve time: 0.00s\r\n",
      "Presolved: 4 rows, 7 columns, 12 nonzeros\r\n",
      "\r\n",
      "Iteration    Objective       Primal Inf.    Dual Inf.      Time\r\n",
      "       0    7.4940000e+00   6.357083e+00   0.000000e+00      0s\r\n",
      "       3    2.3166667e+01   0.000000e+00   0.000000e+00      0s\r\n",
      "\r\n",
      "Solved in 3 iterations and 0.00 seconds (0.00 work units)\r\n",
      "Optimal objective  2.316666667e+01\r\n",
      "\r\n",
      "User-callback calls 61, time in user-callback 0.00 sec\r\n"
     ]
    },
    {
     "data": {
      "text/plain": [
       "23.166666666666664"
      ]
     },
     "execution_count": 18,
     "metadata": {},
     "output_type": "execute_result"
    }
   ],
   "source": [
    "#--- Write codes here to query the optimal solutions\n",
    "\n",
    "optimize!(m)\n",
    "\n",
    "opt_beamlets = value.(b) # Optimal beamlets\n",
    "opt_voxels = value.(voxels) # Optimal voxels\n",
    "optimal_objective = objective_value(m) # Optimal objective"
   ]
  },
  {
   "cell_type": "code",
   "execution_count": 20,
   "metadata": {},
   "outputs": [
    {
     "name": "stdout",
     "output_type": "stream",
     "text": [
      "The optimal beamlet intentisities are [0.0, 0.0, 1.75, 0.11111111111111131, 0.0, 0.0, 0.0, 1.6666666666666667, 0.0, 0.0, 0.0, 2.3333333333333335]\n",
      "The optimal doses incurred by voxels are [0.2222222222222226, 7.0, 5.111111111111112, 0.0, 5.0, 7.0, 7.0, 8.583333333333332, 12.833333333333332]\n",
      "The objective function value is 23.166666666666664\n"
     ]
    }
   ],
   "source": [
    "println(\"The optimal beamlet intentisities are \", opt_beamlets)\n",
    "println(\"The optimal doses incurred by voxels are \", opt_voxels)\n",
    "println(\"The objective function value is \", optimal_objective)"
   ]
  },
  {
   "cell_type": "markdown",
   "metadata": {},
   "source": [
    "Then, write down the optimal solution - the optimal intensities of the beamlets and the optimal objective function value - on your PDF writeup. On the PDF writeup, answer the remaining questions of this part: intuitively, does this make sense?  Briefly explain why it does or does not make sense to you.  (There are many possible correct answers to this last part.)"
   ]
  },
  {
   "cell_type": "markdown",
   "metadata": {},
   "source": [
    "## Part (d)"
   ]
  },
  {
   "cell_type": "markdown",
   "metadata": {},
   "source": [
    "Suppose we would like to reduce the dose to the spinal cord as much as possible. We can do this by reducing the maximum dose that the spinal cord can receive. Adjust your spinal cord constraint to make sure that the spinal cord receives a total dose of no more than 4. How does the optimal solution change? Continue reducing the maximum total dose to the spinal cord by trying value 3, 2, 1, and 0. What happens to the optimal solution? \n",
    "\n",
    "In the cell below, write Julia/JuMP codes to solve this new problem. Please use Gurobi as the solver."
   ]
  },
  {
   "cell_type": "code",
   "execution_count": 21,
   "metadata": {},
   "outputs": [
    {
     "name": "stdout",
     "output_type": "stream",
     "text": [
      "Set parameter Username\r\n",
      "Academic license - for non-commercial use only - expires 2025-02-06\r\n",
      "Gurobi Optimizer version 11.0.0 build v11.0.0rc2 (win64 - Windows 11.0 (22000.2))\r\n",
      "\r\n",
      "CPU model: Intel(R) Core(TM) i5-10210U CPU @ 1.60GHz, instruction set [SSE2|AVX|AVX2]\r\n",
      "Thread count: 4 physical cores, 8 logical processors, using up to 8 threads\r\n",
      "\r\n",
      "Optimize a model with 14 rows, 21 columns and 50 nonzeros\r\n",
      "Model fingerprint: 0xcb53834b\r\n",
      "Coefficient statistics:\r\n",
      "  Matrix range     [1e+00, 4e+00]\r\n",
      "  Objective range  [1e+00, 1e+00]\r\n",
      "  Bounds range     [0e+00, 0e+00]\r\n",
      "  RHS range        [4e+00, 7e+00]\r\n",
      "Presolve removed 10 rows and 14 columns\r\n",
      "Presolve time: 0.00s\r\n",
      "Presolved: 4 rows, 7 columns, 12 nonzeros\r\n",
      "\r\n",
      "Iteration    Objective       Primal Inf.    Dual Inf.      Time\r\n",
      "       0    9.4920000e+00   5.524583e+00   0.000000e+00      0s\r\n",
      "       3    2.4833333e+01   0.000000e+00   0.000000e+00      0s\r\n",
      "\r\n",
      "Solved in 3 iterations and 0.00 seconds (0.00 work units)\r\n",
      "Optimal objective  2.483333333e+01\r\n",
      "\r\n",
      "User-callback calls 61, time in user-callback 0.00 sec\r\n",
      "Set parameter Username\r\n",
      "Academic license - for non-commercial use only - expires 2025-02-06\r\n",
      "Gurobi Optimizer version 11.0.0 build v11.0.0rc2 (win64 - Windows 11.0 (22000.2))\r\n",
      "\r\n",
      "CPU model: Intel(R) Core(TM) i5-10210U CPU @ 1.60GHz, instruction set [SSE2|AVX|AVX2]\r\n",
      "Thread count: 4 physical cores, 8 logical processors, using up to 8 threads\r\n",
      "\r\n",
      "Optimize a model with 14 rows, 21 columns and 50 nonzeros\r\n",
      "Model fingerprint: 0x7ba51d23\r\n",
      "Coefficient statistics:\r\n",
      "  Matrix range     [1e+00, 4e+00]\r\n",
      "  Objective range  [1e+00, 1e+00]\r\n",
      "  Bounds range     [0e+00, 0e+00]\r\n",
      "  RHS range        [3e+00, 7e+00]\r\n",
      "Presolve removed 10 rows and 14 columns\r\n",
      "Presolve time: 0.00s\r\n",
      "Presolved: 4 rows, 7 columns, 12 nonzeros\r\n",
      "\r\n",
      "Iteration    Objective       Primal Inf.    Dual Inf.      Time\r\n",
      "       0    1.1490000e+01   4.692083e+00   0.000000e+00      0s\r\n",
      "       3    2.6500000e+01   0.000000e+00   0.000000e+00      0s\r\n",
      "\r\n",
      "Solved in 3 iterations and 0.00 seconds (0.00 work units)\r\n",
      "Optimal objective  2.650000000e+01\r\n",
      "\r\n",
      "User-callback calls 61, time in user-callback 0.00 sec\r\n",
      "Set parameter Username\r\n",
      "Academic license - for non-commercial use only - expires 2025-02-06\r\n",
      "Gurobi Optimizer version 11.0.0 build v11.0.0rc2 (win64 - Windows 11.0 (22000.2))\r\n",
      "\r\n",
      "CPU model: Intel(R) Core(TM) i5-10210U CPU @ 1.60GHz, instruction set [SSE2|AVX|AVX2]\r\n",
      "Thread count: 4 physical cores, 8 logical processors, using up to 8 threads\r\n",
      "\r\n",
      "Optimize a model with 14 rows, 21 columns and 50 nonzeros\r\n",
      "Model fingerprint: 0x6e031aa5\r\n",
      "Coefficient statistics:\r\n",
      "  Matrix range     [1e+00, 4e+00]\r\n",
      "  Objective range  [1e+00, 1e+00]\r\n",
      "  Bounds range     [0e+00, 0e+00]\r\n",
      "  RHS range        [2e+00, 7e+00]\r\n",
      "Presolve removed 10 rows and 14 columns\r\n",
      "Presolve time: 0.00s\r\n",
      "Presolved: 4 rows, 7 columns, 12 nonzeros\r\n",
      "\r\n",
      "Iteration    Objective       Primal Inf.    Dual Inf.      Time\r\n",
      "       0    1.3488000e+01   3.859750e+00   0.000000e+00      0s\r\n",
      "       5    2.8444444e+01   0.000000e+00   0.000000e+00      0s\r\n",
      "\r\n",
      "Solved in 5 iterations and 0.00 seconds (0.00 work units)\r\n",
      "Optimal objective  2.844444444e+01\r\n",
      "\r\n",
      "User-callback calls 64, time in user-callback 0.00 sec\r\n",
      "Set parameter Username\r\n",
      "Academic license - for non-commercial use only - expires 2025-02-06\r\n",
      "Gurobi Optimizer version 11.0.0 build v11.0.0rc2 (win64 - Windows 11.0 (22000.2))\r\n",
      "\r\n",
      "CPU model: Intel(R) Core(TM) i5-10210U CPU @ 1.60GHz, instruction set [SSE2|AVX|AVX2]\r\n",
      "Thread count: 4 physical cores, 8 logical processors, using up to 8 threads\r\n",
      "\r\n",
      "Optimize a model with 14 rows, 21 columns and 50 nonzeros\r\n",
      "Model fingerprint: 0xe28d93c9\r\n",
      "Coefficient statistics:\r\n",
      "  Matrix range     [1e+00, 4e+00]\r\n",
      "  Objective range  [1e+00, 1e+00]\r\n",
      "  Bounds range     [0e+00, 0e+00]\r\n",
      "  RHS range        [1e+00, 7e+00]\r\n",
      "Presolve removed 10 rows and 14 columns\r\n",
      "Presolve time: 0.00s\r\n",
      "Presolved: 4 rows, 7 columns, 12 nonzeros\r\n",
      "\r\n",
      "Iteration    Objective       Primal Inf.    Dual Inf.      Time\r\n",
      "       0    1.5486000e+01   3.027917e+00   0.000000e+00      0s\r\n",
      "       5    3.0555556e+01   0.000000e+00   0.000000e+00      0s\r\n",
      "\r\n",
      "Solved in 5 iterations and 0.00 seconds (0.00 work units)\r\n",
      "Optimal objective  3.055555556e+01\r\n",
      "\r\n",
      "User-callback calls 64, time in user-callback 0.00 sec\r\n",
      "Set parameter Username\r\n",
      "Academic license - for non-commercial use only - expires 2025-02-06\r\n",
      "Gurobi Optimizer version 11.0.0 build v11.0.0rc2 (win64 - Windows 11.0 (22000.2))\r\n",
      "\r\n",
      "CPU model: Intel(R) Core(TM) i5-10210U CPU @ 1.60GHz, instruction set [SSE2|AVX|AVX2]\r\n",
      "Thread count: 4 physical cores, 8 logical processors, using up to 8 threads\r\n",
      "\r\n",
      "Optimize a model with 14 rows, 21 columns and 50 nonzeros\r\n",
      "Model fingerprint: 0x771b0fa8\r\n",
      "Coefficient statistics:\r\n",
      "  Matrix range     [1e+00, 4e+00]\r\n",
      "  Objective range  [1e+00, 1e+00]\r\n",
      "  Bounds range     [0e+00, 0e+00]\r\n",
      "  RHS range        [7e+00, 7e+00]\r\n",
      "Presolve removed 14 rows and 21 columns\r\n",
      "Presolve time: 0.00s\r\n",
      "Presolve: All rows and columns removed\r\n",
      "Iteration    Objective       Primal Inf.    Dual Inf.      Time\r\n",
      "       0    3.2666667e+01   0.000000e+00   0.000000e+00      0s\r\n",
      "\r\n",
      "Solved in 0 iterations and 0.00 seconds (0.00 work units)\r\n",
      "Optimal objective  3.266666667e+01\r\n",
      "\r\n",
      "User-callback calls 44, time in user-callback 0.00 sec\r\n"
     ]
    }
   ],
   "source": [
    "#--- Write Julia/JuMP codes to solve this new problem\n",
    "\n",
    "opt_obj = []\n",
    "opt_spinal = []\n",
    "\n",
    "for i = 0:4\n",
    "    \n",
    "    m = Model(Gurobi.Optimizer)\n",
    "\n",
    "    @variables m begin\n",
    "        b[1:12] >= 0 # intensities of beamlets [E1, E2, E3, W1, ..., S1, ..., N1, ...]\n",
    "        voxels[1:9] # dose incurred by voxels.  note: don't need to have these \"auxiliary\" variables, but it makes formulation easier\n",
    "    end\n",
    "\n",
    "    @constraints m begin # Complete the constraints below.\n",
    "        voxels[1] == 4*b[1]+2*b[4]+4*b[7]+2*b[10]\n",
    "        voxels[2] == 3*b[1]+3*b[4]+4*b[8]+2*b[11]\n",
    "        voxels[3] == 2*b[1]+4*b[4]+4*b[9]+2*b[12]\n",
    "        voxels[4] == 4*b[2]+2*b[5]+3*b[7]+3*b[10]\n",
    "        voxels[5] == 3*b[2]+3*b[5]+3*b[8]+3*b[11]\n",
    "        voxels[6] == 2*b[2]+4*b[5]+3*b[9]+3*b[12]\n",
    "        voxels[7] == 4*b[3]+2*b[6]+2*b[7]+4*b[10]\n",
    "        voxels[8] == 3*b[3]+3*b[6]+2*b[8]+4*b[11]\n",
    "        voxels[9] == 2*b[3]+4*b[6]+2*b[9]+4*b[12]\n",
    "        voxels[2]>=7\n",
    "        voxels[6]>=7\n",
    "        voxels[7]>=7\n",
    "        voxels[8]>=7\n",
    "        voxels[5]<=4-i\n",
    "    end\n",
    "\n",
    "    @objective(m, Min, voxels[1] + voxels[3] + voxels[4] + voxels[5] + voxels[9])\n",
    "    \n",
    "\n",
    "    optimize!(m)\n",
    "\n",
    "    push!(opt_spinal, value.(voxels[5])) \n",
    "    push!(opt_obj, objective_value(m)) \n",
    "    \n",
    "end"
   ]
  },
  {
   "cell_type": "code",
   "execution_count": 22,
   "metadata": {},
   "outputs": [
    {
     "name": "stdout",
     "output_type": "stream",
     "text": [
      "The objective function values are Any[24.833333333333332, 26.5, 28.444444444444443, 30.555555555555554, 32.66666666666666]\n",
      "The optimal levels of SpinalDosage are Any[4.0, 3.0, 2.0, 1.0, 0.0]\n"
     ]
    }
   ],
   "source": [
    "println(\"The objective function values are \", opt_obj)\n",
    "println(\"The optimal levels of SpinalDosage are \", opt_spinal)"
   ]
  },
  {
   "cell_type": "markdown",
   "metadata": {},
   "source": [
    "Then, write down the optimal solutions - the optimal objective function values - on your PDF writeup. On the writeup, describe what happens to the optimal solution. How would you describe this trade off to the oncologist?"
   ]
  }
 ],
 "metadata": {
  "kernelspec": {
   "display_name": "Julia 1.10.0",
   "language": "julia",
   "name": "julia-1.10"
  },
  "language_info": {
   "file_extension": ".jl",
   "mimetype": "application/julia",
   "name": "julia",
   "version": "1.10.0"
  }
 },
 "nbformat": 4,
 "nbformat_minor": 5
}
